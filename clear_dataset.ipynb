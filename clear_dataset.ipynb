{
 "cells": [
  {
   "cell_type": "code",
   "execution_count": 1,
   "id": "9e30b7e9",
   "metadata": {},
   "outputs": [],
   "source": [
    "import pandas as pd\n",
    "import numpy as np"
   ]
  },
  {
   "cell_type": "code",
   "execution_count": 2,
   "id": "aad238c2",
   "metadata": {},
   "outputs": [],
   "source": [
    "train = pd.read_csv('./data/Train.zip')\n",
    "test = pd.read_csv('./data/Test.zip')"
   ]
  },
  {
   "cell_type": "code",
   "execution_count": 3,
   "id": "204c8db1",
   "metadata": {},
   "outputs": [
    {
     "data": {
      "text/plain": [
       "((2154048, 19), (380127, 18))"
      ]
     },
     "execution_count": 3,
     "metadata": {},
     "output_type": "execute_result"
    }
   ],
   "source": [
    "train.shape, test.shape"
   ]
  },
  {
   "cell_type": "code",
   "execution_count": 4,
   "id": "0b3a3637",
   "metadata": {},
   "outputs": [
    {
     "data": {
      "text/plain": [
       "((10839, 19), (1926, 18))"
      ]
     },
     "execution_count": 4,
     "metadata": {},
     "output_type": "execute_result"
    }
   ],
   "source": [
    "train.dropna().shape, test.dropna().shape"
   ]
  },
  {
   "cell_type": "code",
   "execution_count": 15,
   "id": "8ec3aab6",
   "metadata": {},
   "outputs": [],
   "source": [
    "train_columns_with_none = set(train.isna().any()[train.isna().any()].index)\n",
    "test_columns_with_none = set(test.isna().any()[test.isna().any()].index)"
   ]
  },
  {
   "cell_type": "code",
   "execution_count": 18,
   "id": "41d7bf15",
   "metadata": {},
   "outputs": [
    {
     "name": "stdout",
     "output_type": "stream",
     "text": [
      "TIGO: 59.89\n",
      "REGION: 39.43\n",
      "DATA_VOLUME: 49.23\n",
      "FREQUENCE: 33.71\n",
      "ORANGE: 41.56\n",
      "MONTANT: 35.13\n",
      "FREQUENCE_RECH: 35.13\n",
      "ARPU_SEGMENT: 33.71\n",
      "ZONE2: 93.65\n",
      "ZONE1: 92.12\n",
      "TOP_PACK: 41.90\n",
      "ON_NET: 36.52\n",
      "FREQ_TOP_PACK: 41.90\n",
      "REVENUE: 33.71\n"
     ]
    }
   ],
   "source": [
    "train_total = train.shape[0]\n",
    "for col in train_columns_with_none:\n",
    "    print(f'{col}: {train[train[col].isna()].shape[0]/train_total*100:.2f}')"
   ]
  },
  {
   "cell_type": "code",
   "execution_count": 28,
   "id": "c297e364",
   "metadata": {},
   "outputs": [
    {
     "data": {
      "text/plain": [
       "(437435, 17)"
      ]
     },
     "execution_count": 28,
     "metadata": {},
     "output_type": "execute_result"
    }
   ],
   "source": [
    "train[[x for x in list(train) if x not in ('ZONE1', 'ZONE2')]].dropna().shape"
   ]
  },
  {
   "cell_type": "code",
   "execution_count": 37,
   "id": "af60c3e1",
   "metadata": {},
   "outputs": [
    {
     "name": "stdout",
     "output_type": "stream",
     "text": [
      "TIGO: 59.72\n",
      "REGION: 39.39\n",
      "DATA_VOLUME: 49.20\n",
      "FREQUENCE: 33.51\n",
      "ORANGE: 41.36\n",
      "MONTANT: 35.00\n",
      "FREQUENCE_RECH: 35.00\n",
      "ARPU_SEGMENT: 33.51\n",
      "ZONE2: 93.67\n",
      "ZONE1: 92.14\n",
      "TOP_PACK: 41.77\n",
      "ON_NET: 36.44\n",
      "FREQ_TOP_PACK: 41.77\n",
      "REVENUE: 33.51\n"
     ]
    }
   ],
   "source": [
    "test_total = test.shape[0]\n",
    "for col in test_columns_with_none:\n",
    "    print(f'{col}: {test[test[col].isna()].shape[0]/test_total*100:.2f}')"
   ]
  },
  {
   "cell_type": "code",
   "execution_count": 35,
   "id": "0e37f006",
   "metadata": {},
   "outputs": [
    {
     "data": {
      "text/plain": [
       "227001"
      ]
     },
     "execution_count": 35,
     "metadata": {},
     "output_type": "execute_result"
    }
   ],
   "source": []
  },
  {
   "cell_type": "code",
   "execution_count": null,
   "id": "3196e082",
   "metadata": {},
   "outputs": [],
   "source": []
  }
 ],
 "metadata": {
  "kernelspec": {
   "display_name": "Python 3 (ipykernel)",
   "language": "python",
   "name": "python3"
  },
  "language_info": {
   "codemirror_mode": {
    "name": "ipython",
    "version": 3
   },
   "file_extension": ".py",
   "mimetype": "text/x-python",
   "name": "python",
   "nbconvert_exporter": "python",
   "pygments_lexer": "ipython3",
   "version": "3.9.5"
  }
 },
 "nbformat": 4,
 "nbformat_minor": 5
}
