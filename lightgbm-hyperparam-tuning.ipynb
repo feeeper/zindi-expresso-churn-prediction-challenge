{
 "cells": [
  {
   "cell_type": "code",
   "execution_count": 1,
   "id": "296d86f3",
   "metadata": {},
   "outputs": [],
   "source": [
    "import pandas as pd\n",
    "import numpy as np\n",
    "from tqdm.notebook import tqdm\n",
    "from lightgbm import LGBMClassifier\n",
    "import optuna\n",
    "from sklearn.metrics import roc_auc_score\n",
    "from sklearn.preprocessing import OneHotEncoder\n",
    "\n",
    "tqdm.pandas()"
   ]
  },
  {
   "cell_type": "code",
   "execution_count": 2,
   "id": "c79ff4a4",
   "metadata": {},
   "outputs": [],
   "source": [
    "train = pd.read_csv('./data/train_ohe_te_fillna.csv')\n",
    "test = pd.read_csv('./data/Test.zip')\n",
    "\n",
    "useful_features = [\n",
    "'MONTANT',\n",
    "'FREQUENCE_RECH',\n",
    "'REVENUE',\n",
    "'ARPU_SEGMENT',\n",
    "'FREQUENCE',\n",
    "'DATA_VOLUME',\n",
    "'ON_NET',\n",
    "'ORANGE',\n",
    "'TIGO',\n",
    "'ZONE1',\n",
    "'ZONE2',\n",
    "'REGULARITY',\n",
    "'FREQ_TOP_PACK',\n",
    "'TENURE_CHURN_mean',\n",
    "'REGION_CHURN_mean',\n",
    "'REGION_0',\n",
    "'REGION_1',\n",
    "'REGION_2',\n",
    "'REGION_3',\n",
    "'REGION_4',\n",
    "'REGION_5',\n",
    "'REGION_6',\n",
    "'REGION_7',\n",
    "'REGION_8',\n",
    "'REGION_9',\n",
    "'REGION_10',\n",
    "'REGION_11',\n",
    "'REGION_12',\n",
    "'REGION_13',\n",
    "'TENURE_0',\n",
    "'TENURE_1',\n",
    "'TENURE_2',\n",
    "'TENURE_3',\n",
    "'TENURE_4',\n",
    "'TENURE_5',\n",
    "'TENURE_6',\n",
    "'TENURE_7',\n",
    "]\n",
    "\n",
    "useful_cols = [\n",
    "    'REGION',\n",
    "    'TENURE',\n",
    "    'MONTANT',\n",
    "    'FREQUENCE_RECH',\n",
    "    'REVENUE',\n",
    "    'ARPU_SEGMENT',\n",
    "    'FREQUENCE',\n",
    "    'DATA_VOLUME',\n",
    "    'ON_NET', \n",
    "    'ORANGE',\n",
    "    'TIGO',\n",
    "    'ZONE1',\n",
    "    'ZONE2',\n",
    "    'REGULARITY',\n",
    "    'FREQ_TOP_PACK',\n",
    "    'TENURE_CHURN_mean',\n",
    "    'REGION_CHURN_mean'\n",
    "]\n",
    "\n",
    "cat_cols = [\n",
    "    'REGION',\n",
    "    'TENURE',\n",
    "]\n",
    "\n",
    "final_predictions = []\n",
    "scores = []\n",
    "\n",
    "def run(trial):\n",
    "    fold = 0\n",
    "    learning_rate = trial.suggest_float(\"learning_rate\", 1e-2, 0.25, log=True)\n",
    "    reg_lambda = trial.suggest_loguniform(\"reg_lambda\", 1e-8, 100.0)\n",
    "    reg_alpha = trial.suggest_loguniform(\"reg_alpha\", 1e-8, 100.0)\n",
    "    subsample = trial.suggest_float(\"subsample\", 0.1, 1.0)\n",
    "    colsample_bytree = trial.suggest_float(\"colsample_bytree\", 0.1, 1.0)\n",
    "    max_depth = trial.suggest_int(\"max_depth\", 1, 7)\n",
    "\n",
    "    xtrain = train[train.kfold != fold].reset_index(drop=True)\n",
    "    xvalid = train[train.kfold == fold].reset_index(drop=True)\n",
    "\n",
    "    ytrain = xtrain['CHURN']\n",
    "    yvalid = xvalid['CHURN']\n",
    "\n",
    "    xtrain = xtrain[useful_features]\n",
    "    xvalid = xvalid[useful_features]\n",
    "\n",
    "    model = LGBMClassifier(\n",
    "        random_state=42,\n",
    "        n_estimators=7000,\n",
    "        learning_rate=learning_rate,\n",
    "        reg_lambda=reg_lambda,\n",
    "        reg_alpha=reg_alpha,\n",
    "        subsample=subsample,\n",
    "        colsample_bytree=colsample_bytree,\n",
    "        max_depth=max_depth,\n",
    "    )\n",
    "    model.fit(xtrain, ytrain, early_stopping_rounds=300, eval_set=[(xvalid, yvalid)], verbose=1000)\n",
    "    preds_valid = model.predict(xvalid)\n",
    "    score = roc_auc_score(yvalid, preds_valid)\n",
    "    return score"
   ]
  },
  {
   "cell_type": "code",
   "execution_count": 3,
   "id": "81c781b4",
   "metadata": {},
   "outputs": [
    {
     "name": "stderr",
     "output_type": "stream",
     "text": [
      "\u001b[32m[I 2021-09-08 18:40:38,422]\u001b[0m A new study created in memory with name: no-name-72ac63d9-5d4f-4419-b8e7-c183272c1362\u001b[0m\n"
     ]
    },
    {
     "name": "stdout",
     "output_type": "stream",
     "text": [
      "Training until validation scores don't improve for 300 rounds\n",
      "Early stopping, best iteration is:\n",
      "[72]\tvalid_0's binary_logloss: 0.27382\n"
     ]
    },
    {
     "name": "stderr",
     "output_type": "stream",
     "text": [
      "\u001b[32m[I 2021-09-08 18:41:03,236]\u001b[0m Trial 0 finished with value: 0.7709722003791525 and parameters: {'learning_rate': 0.2190781226698892, 'reg_lambda': 0.0003284071493458288, 'reg_alpha': 0.004901298783146639, 'subsample': 0.4754336210716843, 'colsample_bytree': 0.34126993422447205, 'max_depth': 6}. Best is trial 0 with value: 0.7709722003791525.\u001b[0m\n"
     ]
    },
    {
     "name": "stdout",
     "output_type": "stream",
     "text": [
      "Training until validation scores don't improve for 300 rounds\n",
      "Early stopping, best iteration is:\n",
      "[588]\tvalid_0's binary_logloss: 0.273255\n"
     ]
    },
    {
     "name": "stderr",
     "output_type": "stream",
     "text": [
      "\u001b[32m[I 2021-09-08 18:41:59,445]\u001b[0m Trial 1 finished with value: 0.7698041272707171 and parameters: {'learning_rate': 0.047477032585942915, 'reg_lambda': 3.0075761133630468, 'reg_alpha': 70.10750174715302, 'subsample': 0.13429150325394096, 'colsample_bytree': 0.5454341528843681, 'max_depth': 7}. Best is trial 1 with value: 0.7698041272707171.\u001b[0m\n"
     ]
    },
    {
     "name": "stdout",
     "output_type": "stream",
     "text": [
      "Training until validation scores don't improve for 300 rounds\n",
      "[1000]\tvalid_0's binary_logloss: 0.278089\n",
      "[2000]\tvalid_0's binary_logloss: 0.277153\n",
      "[3000]\tvalid_0's binary_logloss: 0.276933\n",
      "[4000]\tvalid_0's binary_logloss: 0.27681\n",
      "[5000]\tvalid_0's binary_logloss: 0.276733\n",
      "[6000]\tvalid_0's binary_logloss: 0.276682\n",
      "[7000]\tvalid_0's binary_logloss: 0.276645\n",
      "Did not meet early stopping. Best iteration is:\n",
      "[7000]\tvalid_0's binary_logloss: 0.276645\n"
     ]
    },
    {
     "name": "stderr",
     "output_type": "stream",
     "text": [
      "\u001b[32m[I 2021-09-08 18:45:29,987]\u001b[0m Trial 2 finished with value: 0.7765809065217564 and parameters: {'learning_rate': 0.013342556496161052, 'reg_lambda': 0.016799149740895716, 'reg_alpha': 4.33701796668025e-08, 'subsample': 0.6162924116128982, 'colsample_bytree': 0.6646104063986547, 'max_depth': 1}. Best is trial 1 with value: 0.7698041272707171.\u001b[0m\n"
     ]
    },
    {
     "name": "stdout",
     "output_type": "stream",
     "text": [
      "Training until validation scores don't improve for 300 rounds\n",
      "[1000]\tvalid_0's binary_logloss: 0.273227\n",
      "[2000]\tvalid_0's binary_logloss: 0.273058\n",
      "[3000]\tvalid_0's binary_logloss: 0.273029\n",
      "Early stopping, best iteration is:\n",
      "[2867]\tvalid_0's binary_logloss: 0.273026\n"
     ]
    },
    {
     "name": "stderr",
     "output_type": "stream",
     "text": [
      "\u001b[32m[I 2021-09-08 18:48:02,323]\u001b[0m Trial 3 finished with value: 0.7703309241355893 and parameters: {'learning_rate': 0.016074688123189133, 'reg_lambda': 0.0667986113413545, 'reg_alpha': 1.6760541046940095e-05, 'subsample': 0.41288740845854044, 'colsample_bytree': 0.7514054255999928, 'max_depth': 7}. Best is trial 1 with value: 0.7698041272707171.\u001b[0m\n"
     ]
    },
    {
     "name": "stdout",
     "output_type": "stream",
     "text": [
      "Training until validation scores don't improve for 300 rounds\n",
      "[1000]\tvalid_0's binary_logloss: 0.276259\n",
      "[2000]\tvalid_0's binary_logloss: 0.274383\n",
      "[3000]\tvalid_0's binary_logloss: 0.273926\n",
      "[4000]\tvalid_0's binary_logloss: 0.273812\n",
      "[5000]\tvalid_0's binary_logloss: 0.273751\n",
      "Early stopping, best iteration is:\n",
      "[4899]\tvalid_0's binary_logloss: 0.273746\n"
     ]
    },
    {
     "name": "stderr",
     "output_type": "stream",
     "text": [
      "\u001b[32m[I 2021-09-08 18:53:06,946]\u001b[0m Trial 4 finished with value: 0.7731128882062901 and parameters: {'learning_rate': 0.02621437536048763, 'reg_lambda': 0.27290614070589714, 'reg_alpha': 0.00034058783628698475, 'subsample': 0.9527162265977895, 'colsample_bytree': 0.15509492073404493, 'max_depth': 4}. Best is trial 1 with value: 0.7698041272707171.\u001b[0m\n"
     ]
    },
    {
     "name": "stdout",
     "output_type": "stream",
     "text": [
      "Training until validation scores don't improve for 300 rounds\n",
      "[1000]\tvalid_0's binary_logloss: 0.273385\n",
      "[2000]\tvalid_0's binary_logloss: 0.273205\n",
      "Early stopping, best iteration is:\n",
      "[2205]\tvalid_0's binary_logloss: 0.273192\n"
     ]
    },
    {
     "name": "stderr",
     "output_type": "stream",
     "text": [
      "\u001b[32m[I 2021-09-08 18:55:21,522]\u001b[0m Trial 5 finished with value: 0.7703880421789945 and parameters: {'learning_rate': 0.032990229558852134, 'reg_lambda': 0.6445314501601072, 'reg_alpha': 0.09405400311381441, 'subsample': 0.751479557329244, 'colsample_bytree': 0.5057329427802791, 'max_depth': 4}. Best is trial 1 with value: 0.7698041272707171.\u001b[0m\n"
     ]
    },
    {
     "name": "stdout",
     "output_type": "stream",
     "text": [
      "Training until validation scores don't improve for 300 rounds\n",
      "Early stopping, best iteration is:\n",
      "[361]\tvalid_0's binary_logloss: 0.27325\n"
     ]
    },
    {
     "name": "stderr",
     "output_type": "stream",
     "text": [
      "\u001b[32m[I 2021-09-08 18:55:56,431]\u001b[0m Trial 6 finished with value: 0.7704964753346135 and parameters: {'learning_rate': 0.058882440778224014, 'reg_lambda': 3.2839277104927824e-07, 'reg_alpha': 2.1558444594584183e-07, 'subsample': 0.7557141901261383, 'colsample_bytree': 0.8562889693824638, 'max_depth': 6}. Best is trial 1 with value: 0.7698041272707171.\u001b[0m\n"
     ]
    },
    {
     "name": "stdout",
     "output_type": "stream",
     "text": [
      "Training until validation scores don't improve for 300 rounds\n",
      "[1000]\tvalid_0's binary_logloss: 0.275768\n",
      "[2000]\tvalid_0's binary_logloss: 0.274101\n",
      "[3000]\tvalid_0's binary_logloss: 0.273806\n",
      "[4000]\tvalid_0's binary_logloss: 0.273655\n",
      "[5000]\tvalid_0's binary_logloss: 0.273559\n",
      "[6000]\tvalid_0's binary_logloss: 0.273505\n",
      "[7000]\tvalid_0's binary_logloss: 0.273471\n",
      "Did not meet early stopping. Best iteration is:\n",
      "[6933]\tvalid_0's binary_logloss: 0.27347\n"
     ]
    },
    {
     "name": "stderr",
     "output_type": "stream",
     "text": [
      "\u001b[32m[I 2021-09-08 19:02:48,249]\u001b[0m Trial 7 finished with value: 0.7721984812817556 and parameters: {'learning_rate': 0.014495578147654307, 'reg_lambda': 0.09349013879849498, 'reg_alpha': 0.05678457818591098, 'subsample': 0.3647739815175761, 'colsample_bytree': 0.20000814011947332, 'max_depth': 4}. Best is trial 1 with value: 0.7698041272707171.\u001b[0m\n"
     ]
    },
    {
     "name": "stdout",
     "output_type": "stream",
     "text": [
      "Training until validation scores don't improve for 300 rounds\n",
      "[1000]\tvalid_0's binary_logloss: 0.273151\n",
      "Early stopping, best iteration is:\n",
      "[828]\tvalid_0's binary_logloss: 0.273137\n"
     ]
    },
    {
     "name": "stderr",
     "output_type": "stream",
     "text": [
      "\u001b[32m[I 2021-09-08 19:03:55,489]\u001b[0m Trial 8 finished with value: 0.7697970531958969 and parameters: {'learning_rate': 0.057192504267984716, 'reg_lambda': 0.2020682138073545, 'reg_alpha': 9.291468887449219e-07, 'subsample': 0.8824763845186918, 'colsample_bytree': 0.7382762785360262, 'max_depth': 6}. Best is trial 8 with value: 0.7697970531958969.\u001b[0m\n"
     ]
    },
    {
     "name": "stdout",
     "output_type": "stream",
     "text": [
      "Training until validation scores don't improve for 300 rounds\n",
      "[1000]\tvalid_0's binary_logloss: 0.273558\n",
      "[2000]\tvalid_0's binary_logloss: 0.273397\n",
      "Early stopping, best iteration is:\n",
      "[2348]\tvalid_0's binary_logloss: 0.273373\n"
     ]
    },
    {
     "name": "stderr",
     "output_type": "stream",
     "text": [
      "\u001b[32m[I 2021-09-08 19:06:09,894]\u001b[0m Trial 9 finished with value: 0.7703323651531172 and parameters: {'learning_rate': 0.06372188126520278, 'reg_lambda': 1.698531773498989e-06, 'reg_alpha': 0.0057516873596360025, 'subsample': 0.4940807978973274, 'colsample_bytree': 0.4269292377321222, 'max_depth': 3}. Best is trial 8 with value: 0.7697970531958969.\u001b[0m\n"
     ]
    }
   ],
   "source": [
    "study = optuna.create_study(direction=\"minimize\")\n",
    "study.optimize(run, n_trials=10)"
   ]
  },
  {
   "cell_type": "code",
   "execution_count": 4,
   "id": "a951787e",
   "metadata": {},
   "outputs": [
    {
     "data": {
      "text/plain": [
       "{'learning_rate': 0.057192504267984716,\n",
       " 'reg_lambda': 0.2020682138073545,\n",
       " 'reg_alpha': 9.291468887449219e-07,\n",
       " 'subsample': 0.8824763845186918,\n",
       " 'colsample_bytree': 0.7382762785360262,\n",
       " 'max_depth': 6}"
      ]
     },
     "execution_count": 4,
     "metadata": {},
     "output_type": "execute_result"
    }
   ],
   "source": [
    "study.best_params"
   ]
  }
 ],
 "metadata": {
  "kernelspec": {
   "display_name": "Python 3 (ipykernel)",
   "language": "python",
   "name": "python3"
  },
  "language_info": {
   "codemirror_mode": {
    "name": "ipython",
    "version": 3
   },
   "file_extension": ".py",
   "mimetype": "text/x-python",
   "name": "python",
   "nbconvert_exporter": "python",
   "pygments_lexer": "ipython3",
   "version": "3.9.5"
  }
 },
 "nbformat": 4,
 "nbformat_minor": 5
}
