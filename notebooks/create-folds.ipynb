{
 "cells": [
  {
   "cell_type": "code",
   "execution_count": 1,
   "id": "4faa9f00",
   "metadata": {},
   "outputs": [],
   "source": [
    "from sklearn import model_selection\n",
    "import pandas as pd"
   ]
  },
  {
   "cell_type": "code",
   "execution_count": 2,
   "id": "c7378399",
   "metadata": {},
   "outputs": [],
   "source": [
    "train = pd.read_csv('./data/Train.csv')"
   ]
  },
  {
   "cell_type": "code",
   "execution_count": 4,
   "id": "7c72eef6",
   "metadata": {},
   "outputs": [],
   "source": [
    "train[\"kfold\"] = -1\n",
    "\n",
    "kf = model_selection.KFold(n_splits=5, shuffle=True, random_state=42)\n",
    "for fold, (train_indicies, valid_indicies) in enumerate(kf.split(X=train)):\n",
    "    train.loc[valid_indicies, \"kfold\"] = fold"
   ]
  },
  {
   "cell_type": "code",
   "execution_count": 6,
   "id": "22f4897b",
   "metadata": {},
   "outputs": [],
   "source": [
    "train.to_csv('./data/train_folds.csv', index=None)"
   ]
  }
 ],
 "metadata": {
  "kernelspec": {
   "display_name": "Python 3 (ipykernel)",
   "language": "python",
   "name": "python3"
  },
  "language_info": {
   "codemirror_mode": {
    "name": "ipython",
    "version": 3
   },
   "file_extension": ".py",
   "mimetype": "text/x-python",
   "name": "python",
   "nbconvert_exporter": "python",
   "pygments_lexer": "ipython3",
   "version": "3.9.5"
  }
 },
 "nbformat": 4,
 "nbformat_minor": 5
}
